{
 "cells": [
  {
   "cell_type": "code",
   "execution_count": 1,
   "id": "e4ef57f5",
   "metadata": {},
   "outputs": [],
   "source": [
    "import pandas as pd\n",
    "import numpy as np"
   ]
  },
  {
   "cell_type": "code",
   "execution_count": 41,
   "id": "3c52b15e",
   "metadata": {},
   "outputs": [
    {
     "data": {
      "text/html": [
       "<div>\n",
       "<style scoped>\n",
       "    .dataframe tbody tr th:only-of-type {\n",
       "        vertical-align: middle;\n",
       "    }\n",
       "\n",
       "    .dataframe tbody tr th {\n",
       "        vertical-align: top;\n",
       "    }\n",
       "\n",
       "    .dataframe thead th {\n",
       "        text-align: right;\n",
       "    }\n",
       "</style>\n",
       "<table border=\"1\" class=\"dataframe\">\n",
       "  <thead>\n",
       "    <tr style=\"text-align: right;\">\n",
       "      <th></th>\n",
       "      <th>0</th>\n",
       "    </tr>\n",
       "  </thead>\n",
       "  <tbody>\n",
       "    <tr>\n",
       "      <th>0</th>\n",
       "      <td>1</td>\n",
       "    </tr>\n",
       "    <tr>\n",
       "      <th>1</th>\n",
       "      <td>2</td>\n",
       "    </tr>\n",
       "    <tr>\n",
       "      <th>2</th>\n",
       "      <td>3</td>\n",
       "    </tr>\n",
       "    <tr>\n",
       "      <th>3</th>\n",
       "      <td>4</td>\n",
       "    </tr>\n",
       "    <tr>\n",
       "      <th>4</th>\n",
       "      <td>5</td>\n",
       "    </tr>\n",
       "    <tr>\n",
       "      <th>5</th>\n",
       "      <td>6</td>\n",
       "    </tr>\n",
       "    <tr>\n",
       "      <th>6</th>\n",
       "      <td>7</td>\n",
       "    </tr>\n",
       "    <tr>\n",
       "      <th>7</th>\n",
       "      <td>8</td>\n",
       "    </tr>\n",
       "    <tr>\n",
       "      <th>8</th>\n",
       "      <td>9</td>\n",
       "    </tr>\n",
       "    <tr>\n",
       "      <th>9</th>\n",
       "      <td>10</td>\n",
       "    </tr>\n",
       "  </tbody>\n",
       "</table>\n",
       "</div>"
      ],
      "text/plain": [
       "    0\n",
       "0   1\n",
       "1   2\n",
       "2   3\n",
       "3   4\n",
       "4   5\n",
       "5   6\n",
       "6   7\n",
       "7   8\n",
       "8   9\n",
       "9  10"
      ]
     },
     "execution_count": 41,
     "metadata": {},
     "output_type": "execute_result"
    }
   ],
   "source": [
    "w=1,2,3,4,5,6,7,8,9,10\n",
    "ff=pd.DataFrame(w)\n",
    "ff\n"
   ]
  },
  {
   "cell_type": "code",
   "execution_count": 42,
   "id": "267f84d7",
   "metadata": {},
   "outputs": [],
   "source": [
    "data=1,2,3,4,6,8,0,12\n",
    "df = pd.DataFrame(data)"
   ]
  },
  {
   "cell_type": "code",
   "execution_count": 43,
   "id": "5df8c05c",
   "metadata": {},
   "outputs": [
    {
     "data": {
      "text/html": [
       "<div>\n",
       "<style scoped>\n",
       "    .dataframe tbody tr th:only-of-type {\n",
       "        vertical-align: middle;\n",
       "    }\n",
       "\n",
       "    .dataframe tbody tr th {\n",
       "        vertical-align: top;\n",
       "    }\n",
       "\n",
       "    .dataframe thead th {\n",
       "        text-align: right;\n",
       "    }\n",
       "</style>\n",
       "<table border=\"1\" class=\"dataframe\">\n",
       "  <thead>\n",
       "    <tr style=\"text-align: right;\">\n",
       "      <th></th>\n",
       "      <th>0</th>\n",
       "    </tr>\n",
       "  </thead>\n",
       "  <tbody>\n",
       "    <tr>\n",
       "      <th>0</th>\n",
       "      <td>1</td>\n",
       "    </tr>\n",
       "    <tr>\n",
       "      <th>1</th>\n",
       "      <td>2</td>\n",
       "    </tr>\n",
       "    <tr>\n",
       "      <th>2</th>\n",
       "      <td>3</td>\n",
       "    </tr>\n",
       "    <tr>\n",
       "      <th>3</th>\n",
       "      <td>4</td>\n",
       "    </tr>\n",
       "    <tr>\n",
       "      <th>4</th>\n",
       "      <td>6</td>\n",
       "    </tr>\n",
       "    <tr>\n",
       "      <th>5</th>\n",
       "      <td>8</td>\n",
       "    </tr>\n",
       "    <tr>\n",
       "      <th>6</th>\n",
       "      <td>0</td>\n",
       "    </tr>\n",
       "    <tr>\n",
       "      <th>7</th>\n",
       "      <td>12</td>\n",
       "    </tr>\n",
       "  </tbody>\n",
       "</table>\n",
       "</div>"
      ],
      "text/plain": [
       "    0\n",
       "0   1\n",
       "1   2\n",
       "2   3\n",
       "3   4\n",
       "4   6\n",
       "5   8\n",
       "6   0\n",
       "7  12"
      ]
     },
     "execution_count": 43,
     "metadata": {},
     "output_type": "execute_result"
    }
   ],
   "source": [
    "\n",
    "\n",
    "df"
   ]
  },
  {
   "cell_type": "code",
   "execution_count": 44,
   "id": "07ef3343",
   "metadata": {},
   "outputs": [
    {
     "data": {
      "text/plain": [
       "0      1.0\n",
       "1      2.0\n",
       "2      3.0\n",
       "3      4.0\n",
       "4      5.0\n",
       "5      6.0\n",
       "6      NaN\n",
       "7      8.0\n",
       "8      9.0\n",
       "9     10.0\n",
       "10    11.0\n",
       "11    12.0\n",
       "12    13.0\n",
       "dtype: float64"
      ]
     },
     "execution_count": 44,
     "metadata": {},
     "output_type": "execute_result"
    }
   ],
   "source": [
    "\n",
    "s=pd.Series([1,2,3,4,5,6,np.nan,8,9,10,11,12,13])\n",
    "s"
   ]
  },
  {
   "cell_type": "code",
   "execution_count": 45,
   "id": "806587af",
   "metadata": {},
   "outputs": [
    {
     "name": "stdout",
     "output_type": "stream",
     "text": [
      "<class 'pandas.core.indexes.datetimes.DatetimeIndex'>\n"
     ]
    }
   ],
   "source": [
    "d=pd.date_range('20230928',periods=15)\n",
    "print(type(d))"
   ]
  },
  {
   "cell_type": "code",
   "execution_count": 47,
   "id": "34d5a506",
   "metadata": {},
   "outputs": [
    {
     "data": {
      "text/html": [
       "<div>\n",
       "<style scoped>\n",
       "    .dataframe tbody tr th:only-of-type {\n",
       "        vertical-align: middle;\n",
       "    }\n",
       "\n",
       "    .dataframe tbody tr th {\n",
       "        vertical-align: top;\n",
       "    }\n",
       "\n",
       "    .dataframe thead th {\n",
       "        text-align: right;\n",
       "    }\n",
       "</style>\n",
       "<table border=\"1\" class=\"dataframe\">\n",
       "  <thead>\n",
       "    <tr style=\"text-align: right;\">\n",
       "      <th></th>\n",
       "      <th>a</th>\n",
       "      <th>b</th>\n",
       "      <th>c</th>\n",
       "      <th>d</th>\n",
       "    </tr>\n",
       "  </thead>\n",
       "  <tbody>\n",
       "    <tr>\n",
       "      <th>2023-09-28</th>\n",
       "      <td>-0.801290</td>\n",
       "      <td>2.473924</td>\n",
       "      <td>0.051949</td>\n",
       "      <td>-0.144845</td>\n",
       "    </tr>\n",
       "    <tr>\n",
       "      <th>2023-09-29</th>\n",
       "      <td>-1.775324</td>\n",
       "      <td>0.868304</td>\n",
       "      <td>-1.568177</td>\n",
       "      <td>1.321939</td>\n",
       "    </tr>\n",
       "    <tr>\n",
       "      <th>2023-09-30</th>\n",
       "      <td>1.371199</td>\n",
       "      <td>0.806189</td>\n",
       "      <td>-0.056680</td>\n",
       "      <td>-1.570426</td>\n",
       "    </tr>\n",
       "    <tr>\n",
       "      <th>2023-10-01</th>\n",
       "      <td>0.120945</td>\n",
       "      <td>0.282436</td>\n",
       "      <td>0.784225</td>\n",
       "      <td>-0.518396</td>\n",
       "    </tr>\n",
       "    <tr>\n",
       "      <th>2023-10-02</th>\n",
       "      <td>-1.249921</td>\n",
       "      <td>1.158207</td>\n",
       "      <td>1.166802</td>\n",
       "      <td>-0.534551</td>\n",
       "    </tr>\n",
       "    <tr>\n",
       "      <th>2023-10-03</th>\n",
       "      <td>-0.745556</td>\n",
       "      <td>-0.754910</td>\n",
       "      <td>-1.189255</td>\n",
       "      <td>-0.661162</td>\n",
       "    </tr>\n",
       "    <tr>\n",
       "      <th>2023-10-04</th>\n",
       "      <td>1.213935</td>\n",
       "      <td>-0.655417</td>\n",
       "      <td>0.277038</td>\n",
       "      <td>1.144890</td>\n",
       "    </tr>\n",
       "    <tr>\n",
       "      <th>2023-10-05</th>\n",
       "      <td>0.102500</td>\n",
       "      <td>-1.203390</td>\n",
       "      <td>0.598041</td>\n",
       "      <td>-0.209612</td>\n",
       "    </tr>\n",
       "    <tr>\n",
       "      <th>2023-10-06</th>\n",
       "      <td>-0.114749</td>\n",
       "      <td>1.114343</td>\n",
       "      <td>0.901724</td>\n",
       "      <td>0.035674</td>\n",
       "    </tr>\n",
       "    <tr>\n",
       "      <th>2023-10-07</th>\n",
       "      <td>1.412476</td>\n",
       "      <td>1.457415</td>\n",
       "      <td>-1.353099</td>\n",
       "      <td>-0.861397</td>\n",
       "    </tr>\n",
       "    <tr>\n",
       "      <th>2023-10-08</th>\n",
       "      <td>-0.679255</td>\n",
       "      <td>-0.217889</td>\n",
       "      <td>-1.356641</td>\n",
       "      <td>-1.526354</td>\n",
       "    </tr>\n",
       "    <tr>\n",
       "      <th>2023-10-09</th>\n",
       "      <td>-0.900855</td>\n",
       "      <td>-0.519438</td>\n",
       "      <td>0.418052</td>\n",
       "      <td>0.387523</td>\n",
       "    </tr>\n",
       "    <tr>\n",
       "      <th>2023-10-10</th>\n",
       "      <td>1.127244</td>\n",
       "      <td>-1.430917</td>\n",
       "      <td>0.126193</td>\n",
       "      <td>-0.341334</td>\n",
       "    </tr>\n",
       "    <tr>\n",
       "      <th>2023-10-11</th>\n",
       "      <td>0.944396</td>\n",
       "      <td>2.762186</td>\n",
       "      <td>-0.763158</td>\n",
       "      <td>0.023633</td>\n",
       "    </tr>\n",
       "    <tr>\n",
       "      <th>2023-10-12</th>\n",
       "      <td>0.646376</td>\n",
       "      <td>-0.935925</td>\n",
       "      <td>-0.920773</td>\n",
       "      <td>-0.211869</td>\n",
       "    </tr>\n",
       "  </tbody>\n",
       "</table>\n",
       "</div>"
      ],
      "text/plain": [
       "                   a         b         c         d\n",
       "2023-09-28 -0.801290  2.473924  0.051949 -0.144845\n",
       "2023-09-29 -1.775324  0.868304 -1.568177  1.321939\n",
       "2023-09-30  1.371199  0.806189 -0.056680 -1.570426\n",
       "2023-10-01  0.120945  0.282436  0.784225 -0.518396\n",
       "2023-10-02 -1.249921  1.158207  1.166802 -0.534551\n",
       "2023-10-03 -0.745556 -0.754910 -1.189255 -0.661162\n",
       "2023-10-04  1.213935 -0.655417  0.277038  1.144890\n",
       "2023-10-05  0.102500 -1.203390  0.598041 -0.209612\n",
       "2023-10-06 -0.114749  1.114343  0.901724  0.035674\n",
       "2023-10-07  1.412476  1.457415 -1.353099 -0.861397\n",
       "2023-10-08 -0.679255 -0.217889 -1.356641 -1.526354\n",
       "2023-10-09 -0.900855 -0.519438  0.418052  0.387523\n",
       "2023-10-10  1.127244 -1.430917  0.126193 -0.341334\n",
       "2023-10-11  0.944396  2.762186 -0.763158  0.023633\n",
       "2023-10-12  0.646376 -0.935925 -0.920773 -0.211869"
      ]
     },
     "execution_count": 47,
     "metadata": {},
     "output_type": "execute_result"
    }
   ],
   "source": [
    "df=pd.DataFrame(np.random.randn(15,4),index=d,columns=[\"a\",\"b\",\"c\",\"d\"])\n",
    "df"
   ]
  },
  {
   "cell_type": "code",
   "execution_count": 49,
   "id": "46817bcf",
   "metadata": {},
   "outputs": [
    {
     "data": {
      "text/html": [
       "<div>\n",
       "<style scoped>\n",
       "    .dataframe tbody tr th:only-of-type {\n",
       "        vertical-align: middle;\n",
       "    }\n",
       "\n",
       "    .dataframe tbody tr th {\n",
       "        vertical-align: top;\n",
       "    }\n",
       "\n",
       "    .dataframe thead th {\n",
       "        text-align: right;\n",
       "    }\n",
       "</style>\n",
       "<table border=\"1\" class=\"dataframe\">\n",
       "  <thead>\n",
       "    <tr style=\"text-align: right;\">\n",
       "      <th></th>\n",
       "      <th>a</th>\n",
       "      <th>b</th>\n",
       "      <th>c</th>\n",
       "      <th>d</th>\n",
       "      <th>e</th>\n",
       "      <th>f</th>\n",
       "    </tr>\n",
       "  </thead>\n",
       "  <tbody>\n",
       "    <tr>\n",
       "      <th>0</th>\n",
       "      <td>1</td>\n",
       "      <td>2023-09-28</td>\n",
       "      <td>1.0</td>\n",
       "      <td>5</td>\n",
       "      <td>true</td>\n",
       "      <td>pandas</td>\n",
       "    </tr>\n",
       "    <tr>\n",
       "      <th>1</th>\n",
       "      <td>2</td>\n",
       "      <td>2023-09-28</td>\n",
       "      <td>1.0</td>\n",
       "      <td>5</td>\n",
       "      <td>false</td>\n",
       "      <td>pandas</td>\n",
       "    </tr>\n",
       "    <tr>\n",
       "      <th>2</th>\n",
       "      <td>3</td>\n",
       "      <td>2023-09-28</td>\n",
       "      <td>1.0</td>\n",
       "      <td>5</td>\n",
       "      <td>true</td>\n",
       "      <td>pandas</td>\n",
       "    </tr>\n",
       "    <tr>\n",
       "      <th>3</th>\n",
       "      <td>4</td>\n",
       "      <td>2023-09-28</td>\n",
       "      <td>1.0</td>\n",
       "      <td>5</td>\n",
       "      <td>false</td>\n",
       "      <td>pandas</td>\n",
       "    </tr>\n",
       "  </tbody>\n",
       "</table>\n",
       "</div>"
      ],
      "text/plain": [
       "   a          b    c  d      e       f\n",
       "0  1 2023-09-28  1.0  5   true  pandas\n",
       "1  2 2023-09-28  1.0  5  false  pandas\n",
       "2  3 2023-09-28  1.0  5   true  pandas\n",
       "3  4 2023-09-28  1.0  5  false  pandas"
      ]
     },
     "execution_count": 49,
     "metadata": {},
     "output_type": "execute_result"
    }
   ],
   "source": [
    "df1=pd.DataFrame({\"a\":[1,2,3,4],\n",
    "                 \"b\":pd.Timestamp(\"20230928\"),\n",
    "                 \"c\":pd.Series(1,index=list(range(4)),dtype=\"float32\"),\n",
    "                 \"d\":np.array([5]*4,dtype=\"int32\"),\n",
    "                 \"e\":pd.Categorical([\"true\",\"false\",\"true\",\"false\"]),\n",
    "                 \"f\":\"pandas\"})\n",
    "df1"
   ]
  },
  {
   "cell_type": "code",
   "execution_count": 9,
   "id": "b618add2",
   "metadata": {},
   "outputs": [
    {
     "data": {
      "text/plain": [
       "a             int64\n",
       "b    datetime64[ns]\n",
       "c           float32\n",
       "d             int32\n",
       "e          category\n",
       "f            object\n",
       "dtype: object"
      ]
     },
     "execution_count": 9,
     "metadata": {},
     "output_type": "execute_result"
    }
   ],
   "source": [
    "df1.dtypes"
   ]
  },
  {
   "cell_type": "code",
   "execution_count": 50,
   "id": "3afe99ae",
   "metadata": {},
   "outputs": [
    {
     "data": {
      "text/plain": [
       "a    float64\n",
       "b    float64\n",
       "c    float64\n",
       "d    float64\n",
       "dtype: object"
      ]
     },
     "execution_count": 50,
     "metadata": {},
     "output_type": "execute_result"
    }
   ],
   "source": [
    "df.dtypes"
   ]
  },
  {
   "cell_type": "code",
   "execution_count": 51,
   "id": "15de276e",
   "metadata": {},
   "outputs": [
    {
     "data": {
      "text/html": [
       "<div>\n",
       "<style scoped>\n",
       "    .dataframe tbody tr th:only-of-type {\n",
       "        vertical-align: middle;\n",
       "    }\n",
       "\n",
       "    .dataframe tbody tr th {\n",
       "        vertical-align: top;\n",
       "    }\n",
       "\n",
       "    .dataframe thead th {\n",
       "        text-align: right;\n",
       "    }\n",
       "</style>\n",
       "<table border=\"1\" class=\"dataframe\">\n",
       "  <thead>\n",
       "    <tr style=\"text-align: right;\">\n",
       "      <th></th>\n",
       "      <th>a</th>\n",
       "      <th>b</th>\n",
       "      <th>c</th>\n",
       "      <th>d</th>\n",
       "    </tr>\n",
       "  </thead>\n",
       "  <tbody>\n",
       "    <tr>\n",
       "      <th>2023-09-28</th>\n",
       "      <td>-0.801290</td>\n",
       "      <td>2.473924</td>\n",
       "      <td>0.051949</td>\n",
       "      <td>-0.144845</td>\n",
       "    </tr>\n",
       "    <tr>\n",
       "      <th>2023-09-29</th>\n",
       "      <td>-1.775324</td>\n",
       "      <td>0.868304</td>\n",
       "      <td>-1.568177</td>\n",
       "      <td>1.321939</td>\n",
       "    </tr>\n",
       "    <tr>\n",
       "      <th>2023-09-30</th>\n",
       "      <td>1.371199</td>\n",
       "      <td>0.806189</td>\n",
       "      <td>-0.056680</td>\n",
       "      <td>-1.570426</td>\n",
       "    </tr>\n",
       "    <tr>\n",
       "      <th>2023-10-01</th>\n",
       "      <td>0.120945</td>\n",
       "      <td>0.282436</td>\n",
       "      <td>0.784225</td>\n",
       "      <td>-0.518396</td>\n",
       "    </tr>\n",
       "    <tr>\n",
       "      <th>2023-10-02</th>\n",
       "      <td>-1.249921</td>\n",
       "      <td>1.158207</td>\n",
       "      <td>1.166802</td>\n",
       "      <td>-0.534551</td>\n",
       "    </tr>\n",
       "  </tbody>\n",
       "</table>\n",
       "</div>"
      ],
      "text/plain": [
       "                   a         b         c         d\n",
       "2023-09-28 -0.801290  2.473924  0.051949 -0.144845\n",
       "2023-09-29 -1.775324  0.868304 -1.568177  1.321939\n",
       "2023-09-30  1.371199  0.806189 -0.056680 -1.570426\n",
       "2023-10-01  0.120945  0.282436  0.784225 -0.518396\n",
       "2023-10-02 -1.249921  1.158207  1.166802 -0.534551"
      ]
     },
     "execution_count": 51,
     "metadata": {},
     "output_type": "execute_result"
    }
   ],
   "source": [
    "df.head()"
   ]
  },
  {
   "cell_type": "code",
   "execution_count": 52,
   "id": "b0944c20",
   "metadata": {},
   "outputs": [
    {
     "data": {
      "text/html": [
       "<div>\n",
       "<style scoped>\n",
       "    .dataframe tbody tr th:only-of-type {\n",
       "        vertical-align: middle;\n",
       "    }\n",
       "\n",
       "    .dataframe tbody tr th {\n",
       "        vertical-align: top;\n",
       "    }\n",
       "\n",
       "    .dataframe thead th {\n",
       "        text-align: right;\n",
       "    }\n",
       "</style>\n",
       "<table border=\"1\" class=\"dataframe\">\n",
       "  <thead>\n",
       "    <tr style=\"text-align: right;\">\n",
       "      <th></th>\n",
       "      <th>a</th>\n",
       "      <th>b</th>\n",
       "      <th>c</th>\n",
       "      <th>d</th>\n",
       "    </tr>\n",
       "  </thead>\n",
       "  <tbody>\n",
       "    <tr>\n",
       "      <th>2023-10-08</th>\n",
       "      <td>-0.679255</td>\n",
       "      <td>-0.217889</td>\n",
       "      <td>-1.356641</td>\n",
       "      <td>-1.526354</td>\n",
       "    </tr>\n",
       "    <tr>\n",
       "      <th>2023-10-09</th>\n",
       "      <td>-0.900855</td>\n",
       "      <td>-0.519438</td>\n",
       "      <td>0.418052</td>\n",
       "      <td>0.387523</td>\n",
       "    </tr>\n",
       "    <tr>\n",
       "      <th>2023-10-10</th>\n",
       "      <td>1.127244</td>\n",
       "      <td>-1.430917</td>\n",
       "      <td>0.126193</td>\n",
       "      <td>-0.341334</td>\n",
       "    </tr>\n",
       "    <tr>\n",
       "      <th>2023-10-11</th>\n",
       "      <td>0.944396</td>\n",
       "      <td>2.762186</td>\n",
       "      <td>-0.763158</td>\n",
       "      <td>0.023633</td>\n",
       "    </tr>\n",
       "    <tr>\n",
       "      <th>2023-10-12</th>\n",
       "      <td>0.646376</td>\n",
       "      <td>-0.935925</td>\n",
       "      <td>-0.920773</td>\n",
       "      <td>-0.211869</td>\n",
       "    </tr>\n",
       "  </tbody>\n",
       "</table>\n",
       "</div>"
      ],
      "text/plain": [
       "                   a         b         c         d\n",
       "2023-10-08 -0.679255 -0.217889 -1.356641 -1.526354\n",
       "2023-10-09 -0.900855 -0.519438  0.418052  0.387523\n",
       "2023-10-10  1.127244 -1.430917  0.126193 -0.341334\n",
       "2023-10-11  0.944396  2.762186 -0.763158  0.023633\n",
       "2023-10-12  0.646376 -0.935925 -0.920773 -0.211869"
      ]
     },
     "execution_count": 52,
     "metadata": {},
     "output_type": "execute_result"
    }
   ],
   "source": [
    "df.tail()"
   ]
  },
  {
   "cell_type": "code",
   "execution_count": 53,
   "id": "e2f2c195",
   "metadata": {},
   "outputs": [
    {
     "data": {
      "text/plain": [
       "DatetimeIndex(['2023-09-28', '2023-09-29', '2023-09-30', '2023-10-01',\n",
       "               '2023-10-02', '2023-10-03', '2023-10-04', '2023-10-05',\n",
       "               '2023-10-06', '2023-10-07', '2023-10-08', '2023-10-09',\n",
       "               '2023-10-10', '2023-10-11', '2023-10-12'],\n",
       "              dtype='datetime64[ns]', freq='D')"
      ]
     },
     "execution_count": 53,
     "metadata": {},
     "output_type": "execute_result"
    }
   ],
   "source": [
    "df.index"
   ]
  },
  {
   "cell_type": "code",
   "execution_count": 54,
   "id": "4dbc3299",
   "metadata": {},
   "outputs": [
    {
     "data": {
      "text/plain": [
       "Index(['a', 'b', 'c', 'd'], dtype='object')"
      ]
     },
     "execution_count": 54,
     "metadata": {},
     "output_type": "execute_result"
    }
   ],
   "source": [
    "df.columns"
   ]
  },
  {
   "cell_type": "code",
   "execution_count": 55,
   "id": "a2ad0112",
   "metadata": {},
   "outputs": [
    {
     "data": {
      "text/plain": [
       "array([[-0.80129007,  2.4739243 ,  0.05194879, -0.14484497],\n",
       "       [-1.77532382,  0.86830376, -1.56817738,  1.32193892],\n",
       "       [ 1.37119896,  0.80618856, -0.05668006, -1.57042622],\n",
       "       [ 0.12094503,  0.28243588,  0.78422466, -0.51839566],\n",
       "       [-1.249921  ,  1.15820689,  1.1668023 , -0.5345514 ],\n",
       "       [-0.74555638, -0.75490985, -1.18925469, -0.66116196],\n",
       "       [ 1.21393544, -0.65541722,  0.27703774,  1.14488989],\n",
       "       [ 0.10249966, -1.20339018,  0.59804086, -0.20961189],\n",
       "       [-0.11474875,  1.11434333,  0.90172377,  0.03567393],\n",
       "       [ 1.41247578,  1.45741506, -1.35309946, -0.86139655],\n",
       "       [-0.67925478, -0.2178886 , -1.35664068, -1.52635421],\n",
       "       [-0.90085487, -0.5194377 ,  0.41805204,  0.38752285],\n",
       "       [ 1.12724396, -1.43091743,  0.12619337, -0.34133368],\n",
       "       [ 0.94439571,  2.76218646, -0.76315812,  0.02363339],\n",
       "       [ 0.64637623, -0.93592478, -0.92077345, -0.21186889]])"
      ]
     },
     "execution_count": 55,
     "metadata": {},
     "output_type": "execute_result"
    }
   ],
   "source": [
    "df.to_numpy()"
   ]
  },
  {
   "cell_type": "code",
   "execution_count": 56,
   "id": "bbdd4350",
   "metadata": {},
   "outputs": [
    {
     "data": {
      "text/html": [
       "<div>\n",
       "<style scoped>\n",
       "    .dataframe tbody tr th:only-of-type {\n",
       "        vertical-align: middle;\n",
       "    }\n",
       "\n",
       "    .dataframe tbody tr th {\n",
       "        vertical-align: top;\n",
       "    }\n",
       "\n",
       "    .dataframe thead th {\n",
       "        text-align: right;\n",
       "    }\n",
       "</style>\n",
       "<table border=\"1\" class=\"dataframe\">\n",
       "  <thead>\n",
       "    <tr style=\"text-align: right;\">\n",
       "      <th></th>\n",
       "      <th>a</th>\n",
       "      <th>b</th>\n",
       "      <th>c</th>\n",
       "      <th>d</th>\n",
       "    </tr>\n",
       "  </thead>\n",
       "  <tbody>\n",
       "    <tr>\n",
       "      <th>count</th>\n",
       "      <td>15.000000</td>\n",
       "      <td>15.000000</td>\n",
       "      <td>15.000000</td>\n",
       "      <td>15.000000</td>\n",
       "    </tr>\n",
       "    <tr>\n",
       "      <th>mean</th>\n",
       "      <td>0.044808</td>\n",
       "      <td>0.347008</td>\n",
       "      <td>-0.192251</td>\n",
       "      <td>-0.244419</td>\n",
       "    </tr>\n",
       "    <tr>\n",
       "      <th>std</th>\n",
       "      <td>1.039312</td>\n",
       "      <td>1.304472</td>\n",
       "      <td>0.919675</td>\n",
       "      <td>0.804901</td>\n",
       "    </tr>\n",
       "    <tr>\n",
       "      <th>min</th>\n",
       "      <td>-1.775324</td>\n",
       "      <td>-1.430917</td>\n",
       "      <td>-1.568177</td>\n",
       "      <td>-1.570426</td>\n",
       "    </tr>\n",
       "    <tr>\n",
       "      <th>25%</th>\n",
       "      <td>-0.773423</td>\n",
       "      <td>-0.705164</td>\n",
       "      <td>-1.055014</td>\n",
       "      <td>-0.597857</td>\n",
       "    </tr>\n",
       "    <tr>\n",
       "      <th>50%</th>\n",
       "      <td>0.102500</td>\n",
       "      <td>0.282436</td>\n",
       "      <td>0.051949</td>\n",
       "      <td>-0.211869</td>\n",
       "    </tr>\n",
       "    <tr>\n",
       "      <th>75%</th>\n",
       "      <td>1.035820</td>\n",
       "      <td>1.136275</td>\n",
       "      <td>0.508046</td>\n",
       "      <td>0.029654</td>\n",
       "    </tr>\n",
       "    <tr>\n",
       "      <th>max</th>\n",
       "      <td>1.412476</td>\n",
       "      <td>2.762186</td>\n",
       "      <td>1.166802</td>\n",
       "      <td>1.321939</td>\n",
       "    </tr>\n",
       "  </tbody>\n",
       "</table>\n",
       "</div>"
      ],
      "text/plain": [
       "               a          b          c          d\n",
       "count  15.000000  15.000000  15.000000  15.000000\n",
       "mean    0.044808   0.347008  -0.192251  -0.244419\n",
       "std     1.039312   1.304472   0.919675   0.804901\n",
       "min    -1.775324  -1.430917  -1.568177  -1.570426\n",
       "25%    -0.773423  -0.705164  -1.055014  -0.597857\n",
       "50%     0.102500   0.282436   0.051949  -0.211869\n",
       "75%     1.035820   1.136275   0.508046   0.029654\n",
       "max     1.412476   2.762186   1.166802   1.321939"
      ]
     },
     "execution_count": 56,
     "metadata": {},
     "output_type": "execute_result"
    }
   ],
   "source": [
    "df.describe()"
   ]
  },
  {
   "cell_type": "code",
   "execution_count": 57,
   "id": "bd150f4f",
   "metadata": {},
   "outputs": [
    {
     "data": {
      "text/html": [
       "<div>\n",
       "<style scoped>\n",
       "    .dataframe tbody tr th:only-of-type {\n",
       "        vertical-align: middle;\n",
       "    }\n",
       "\n",
       "    .dataframe tbody tr th {\n",
       "        vertical-align: top;\n",
       "    }\n",
       "\n",
       "    .dataframe thead th {\n",
       "        text-align: right;\n",
       "    }\n",
       "</style>\n",
       "<table border=\"1\" class=\"dataframe\">\n",
       "  <thead>\n",
       "    <tr style=\"text-align: right;\">\n",
       "      <th></th>\n",
       "      <th>a</th>\n",
       "      <th>b</th>\n",
       "      <th>c</th>\n",
       "      <th>d</th>\n",
       "    </tr>\n",
       "  </thead>\n",
       "  <tbody>\n",
       "    <tr>\n",
       "      <th>2023-09-29</th>\n",
       "      <td>-1.775324</td>\n",
       "      <td>0.868304</td>\n",
       "      <td>-1.568177</td>\n",
       "      <td>1.321939</td>\n",
       "    </tr>\n",
       "    <tr>\n",
       "      <th>2023-10-08</th>\n",
       "      <td>-0.679255</td>\n",
       "      <td>-0.217889</td>\n",
       "      <td>-1.356641</td>\n",
       "      <td>-1.526354</td>\n",
       "    </tr>\n",
       "    <tr>\n",
       "      <th>2023-10-07</th>\n",
       "      <td>1.412476</td>\n",
       "      <td>1.457415</td>\n",
       "      <td>-1.353099</td>\n",
       "      <td>-0.861397</td>\n",
       "    </tr>\n",
       "    <tr>\n",
       "      <th>2023-10-03</th>\n",
       "      <td>-0.745556</td>\n",
       "      <td>-0.754910</td>\n",
       "      <td>-1.189255</td>\n",
       "      <td>-0.661162</td>\n",
       "    </tr>\n",
       "    <tr>\n",
       "      <th>2023-10-12</th>\n",
       "      <td>0.646376</td>\n",
       "      <td>-0.935925</td>\n",
       "      <td>-0.920773</td>\n",
       "      <td>-0.211869</td>\n",
       "    </tr>\n",
       "    <tr>\n",
       "      <th>2023-10-11</th>\n",
       "      <td>0.944396</td>\n",
       "      <td>2.762186</td>\n",
       "      <td>-0.763158</td>\n",
       "      <td>0.023633</td>\n",
       "    </tr>\n",
       "    <tr>\n",
       "      <th>2023-09-30</th>\n",
       "      <td>1.371199</td>\n",
       "      <td>0.806189</td>\n",
       "      <td>-0.056680</td>\n",
       "      <td>-1.570426</td>\n",
       "    </tr>\n",
       "    <tr>\n",
       "      <th>2023-09-28</th>\n",
       "      <td>-0.801290</td>\n",
       "      <td>2.473924</td>\n",
       "      <td>0.051949</td>\n",
       "      <td>-0.144845</td>\n",
       "    </tr>\n",
       "    <tr>\n",
       "      <th>2023-10-10</th>\n",
       "      <td>1.127244</td>\n",
       "      <td>-1.430917</td>\n",
       "      <td>0.126193</td>\n",
       "      <td>-0.341334</td>\n",
       "    </tr>\n",
       "    <tr>\n",
       "      <th>2023-10-04</th>\n",
       "      <td>1.213935</td>\n",
       "      <td>-0.655417</td>\n",
       "      <td>0.277038</td>\n",
       "      <td>1.144890</td>\n",
       "    </tr>\n",
       "    <tr>\n",
       "      <th>2023-10-09</th>\n",
       "      <td>-0.900855</td>\n",
       "      <td>-0.519438</td>\n",
       "      <td>0.418052</td>\n",
       "      <td>0.387523</td>\n",
       "    </tr>\n",
       "    <tr>\n",
       "      <th>2023-10-05</th>\n",
       "      <td>0.102500</td>\n",
       "      <td>-1.203390</td>\n",
       "      <td>0.598041</td>\n",
       "      <td>-0.209612</td>\n",
       "    </tr>\n",
       "    <tr>\n",
       "      <th>2023-10-01</th>\n",
       "      <td>0.120945</td>\n",
       "      <td>0.282436</td>\n",
       "      <td>0.784225</td>\n",
       "      <td>-0.518396</td>\n",
       "    </tr>\n",
       "    <tr>\n",
       "      <th>2023-10-06</th>\n",
       "      <td>-0.114749</td>\n",
       "      <td>1.114343</td>\n",
       "      <td>0.901724</td>\n",
       "      <td>0.035674</td>\n",
       "    </tr>\n",
       "    <tr>\n",
       "      <th>2023-10-02</th>\n",
       "      <td>-1.249921</td>\n",
       "      <td>1.158207</td>\n",
       "      <td>1.166802</td>\n",
       "      <td>-0.534551</td>\n",
       "    </tr>\n",
       "  </tbody>\n",
       "</table>\n",
       "</div>"
      ],
      "text/plain": [
       "                   a         b         c         d\n",
       "2023-09-29 -1.775324  0.868304 -1.568177  1.321939\n",
       "2023-10-08 -0.679255 -0.217889 -1.356641 -1.526354\n",
       "2023-10-07  1.412476  1.457415 -1.353099 -0.861397\n",
       "2023-10-03 -0.745556 -0.754910 -1.189255 -0.661162\n",
       "2023-10-12  0.646376 -0.935925 -0.920773 -0.211869\n",
       "2023-10-11  0.944396  2.762186 -0.763158  0.023633\n",
       "2023-09-30  1.371199  0.806189 -0.056680 -1.570426\n",
       "2023-09-28 -0.801290  2.473924  0.051949 -0.144845\n",
       "2023-10-10  1.127244 -1.430917  0.126193 -0.341334\n",
       "2023-10-04  1.213935 -0.655417  0.277038  1.144890\n",
       "2023-10-09 -0.900855 -0.519438  0.418052  0.387523\n",
       "2023-10-05  0.102500 -1.203390  0.598041 -0.209612\n",
       "2023-10-01  0.120945  0.282436  0.784225 -0.518396\n",
       "2023-10-06 -0.114749  1.114343  0.901724  0.035674\n",
       "2023-10-02 -1.249921  1.158207  1.166802 -0.534551"
      ]
     },
     "execution_count": 57,
     "metadata": {},
     "output_type": "execute_result"
    }
   ],
   "source": [
    "df.sort_values(by=\"c\")"
   ]
  },
  {
   "cell_type": "code",
   "execution_count": 58,
   "id": "ecbb8f4d",
   "metadata": {},
   "outputs": [
    {
     "data": {
      "text/plain": [
       "2023-09-28    0.051949\n",
       "2023-09-29   -1.568177\n",
       "2023-09-30   -0.056680\n",
       "2023-10-01    0.784225\n",
       "2023-10-02    1.166802\n",
       "2023-10-03   -1.189255\n",
       "2023-10-04    0.277038\n",
       "2023-10-05    0.598041\n",
       "2023-10-06    0.901724\n",
       "2023-10-07   -1.353099\n",
       "2023-10-08   -1.356641\n",
       "2023-10-09    0.418052\n",
       "2023-10-10    0.126193\n",
       "2023-10-11   -0.763158\n",
       "2023-10-12   -0.920773\n",
       "Freq: D, Name: c, dtype: float64"
      ]
     },
     "execution_count": 58,
     "metadata": {},
     "output_type": "execute_result"
    }
   ],
   "source": [
    "df[\"c\"]"
   ]
  },
  {
   "cell_type": "code",
   "execution_count": 59,
   "id": "5b510264",
   "metadata": {},
   "outputs": [
    {
     "data": {
      "text/html": [
       "<div>\n",
       "<style scoped>\n",
       "    .dataframe tbody tr th:only-of-type {\n",
       "        vertical-align: middle;\n",
       "    }\n",
       "\n",
       "    .dataframe tbody tr th {\n",
       "        vertical-align: top;\n",
       "    }\n",
       "\n",
       "    .dataframe thead th {\n",
       "        text-align: right;\n",
       "    }\n",
       "</style>\n",
       "<table border=\"1\" class=\"dataframe\">\n",
       "  <thead>\n",
       "    <tr style=\"text-align: right;\">\n",
       "      <th></th>\n",
       "      <th>a</th>\n",
       "      <th>b</th>\n",
       "      <th>c</th>\n",
       "      <th>d</th>\n",
       "    </tr>\n",
       "  </thead>\n",
       "  <tbody>\n",
       "    <tr>\n",
       "      <th>2023-09-28</th>\n",
       "      <td>-0.801290</td>\n",
       "      <td>2.473924</td>\n",
       "      <td>0.051949</td>\n",
       "      <td>-0.144845</td>\n",
       "    </tr>\n",
       "    <tr>\n",
       "      <th>2023-09-29</th>\n",
       "      <td>-1.775324</td>\n",
       "      <td>0.868304</td>\n",
       "      <td>-1.568177</td>\n",
       "      <td>1.321939</td>\n",
       "    </tr>\n",
       "    <tr>\n",
       "      <th>2023-09-30</th>\n",
       "      <td>1.371199</td>\n",
       "      <td>0.806189</td>\n",
       "      <td>-0.056680</td>\n",
       "      <td>-1.570426</td>\n",
       "    </tr>\n",
       "  </tbody>\n",
       "</table>\n",
       "</div>"
      ],
      "text/plain": [
       "                   a         b         c         d\n",
       "2023-09-28 -0.801290  2.473924  0.051949 -0.144845\n",
       "2023-09-29 -1.775324  0.868304 -1.568177  1.321939\n",
       "2023-09-30  1.371199  0.806189 -0.056680 -1.570426"
      ]
     },
     "execution_count": 59,
     "metadata": {},
     "output_type": "execute_result"
    }
   ],
   "source": [
    "df[0:3]"
   ]
  },
  {
   "cell_type": "code",
   "execution_count": 60,
   "id": "e1dddb8c",
   "metadata": {},
   "outputs": [
    {
     "data": {
      "text/plain": [
       "a   -0.801290\n",
       "b    2.473924\n",
       "c    0.051949\n",
       "d   -0.144845\n",
       "Name: 2023-09-28 00:00:00, dtype: float64"
      ]
     },
     "execution_count": 60,
     "metadata": {},
     "output_type": "execute_result"
    }
   ],
   "source": [
    "df.loc[d[0]]"
   ]
  },
  {
   "cell_type": "code",
   "execution_count": 61,
   "id": "6965fa16",
   "metadata": {},
   "outputs": [
    {
     "data": {
      "text/html": [
       "<div>\n",
       "<style scoped>\n",
       "    .dataframe tbody tr th:only-of-type {\n",
       "        vertical-align: middle;\n",
       "    }\n",
       "\n",
       "    .dataframe tbody tr th {\n",
       "        vertical-align: top;\n",
       "    }\n",
       "\n",
       "    .dataframe thead th {\n",
       "        text-align: right;\n",
       "    }\n",
       "</style>\n",
       "<table border=\"1\" class=\"dataframe\">\n",
       "  <thead>\n",
       "    <tr style=\"text-align: right;\">\n",
       "      <th></th>\n",
       "      <th>a</th>\n",
       "      <th>c</th>\n",
       "    </tr>\n",
       "  </thead>\n",
       "  <tbody>\n",
       "    <tr>\n",
       "      <th>2023-09-28</th>\n",
       "      <td>-0.801290</td>\n",
       "      <td>0.051949</td>\n",
       "    </tr>\n",
       "    <tr>\n",
       "      <th>2023-09-29</th>\n",
       "      <td>-1.775324</td>\n",
       "      <td>-1.568177</td>\n",
       "    </tr>\n",
       "    <tr>\n",
       "      <th>2023-09-30</th>\n",
       "      <td>1.371199</td>\n",
       "      <td>-0.056680</td>\n",
       "    </tr>\n",
       "    <tr>\n",
       "      <th>2023-10-01</th>\n",
       "      <td>0.120945</td>\n",
       "      <td>0.784225</td>\n",
       "    </tr>\n",
       "    <tr>\n",
       "      <th>2023-10-02</th>\n",
       "      <td>-1.249921</td>\n",
       "      <td>1.166802</td>\n",
       "    </tr>\n",
       "    <tr>\n",
       "      <th>2023-10-03</th>\n",
       "      <td>-0.745556</td>\n",
       "      <td>-1.189255</td>\n",
       "    </tr>\n",
       "    <tr>\n",
       "      <th>2023-10-04</th>\n",
       "      <td>1.213935</td>\n",
       "      <td>0.277038</td>\n",
       "    </tr>\n",
       "    <tr>\n",
       "      <th>2023-10-05</th>\n",
       "      <td>0.102500</td>\n",
       "      <td>0.598041</td>\n",
       "    </tr>\n",
       "    <tr>\n",
       "      <th>2023-10-06</th>\n",
       "      <td>-0.114749</td>\n",
       "      <td>0.901724</td>\n",
       "    </tr>\n",
       "    <tr>\n",
       "      <th>2023-10-07</th>\n",
       "      <td>1.412476</td>\n",
       "      <td>-1.353099</td>\n",
       "    </tr>\n",
       "    <tr>\n",
       "      <th>2023-10-08</th>\n",
       "      <td>-0.679255</td>\n",
       "      <td>-1.356641</td>\n",
       "    </tr>\n",
       "    <tr>\n",
       "      <th>2023-10-09</th>\n",
       "      <td>-0.900855</td>\n",
       "      <td>0.418052</td>\n",
       "    </tr>\n",
       "    <tr>\n",
       "      <th>2023-10-10</th>\n",
       "      <td>1.127244</td>\n",
       "      <td>0.126193</td>\n",
       "    </tr>\n",
       "    <tr>\n",
       "      <th>2023-10-11</th>\n",
       "      <td>0.944396</td>\n",
       "      <td>-0.763158</td>\n",
       "    </tr>\n",
       "    <tr>\n",
       "      <th>2023-10-12</th>\n",
       "      <td>0.646376</td>\n",
       "      <td>-0.920773</td>\n",
       "    </tr>\n",
       "  </tbody>\n",
       "</table>\n",
       "</div>"
      ],
      "text/plain": [
       "                   a         c\n",
       "2023-09-28 -0.801290  0.051949\n",
       "2023-09-29 -1.775324 -1.568177\n",
       "2023-09-30  1.371199 -0.056680\n",
       "2023-10-01  0.120945  0.784225\n",
       "2023-10-02 -1.249921  1.166802\n",
       "2023-10-03 -0.745556 -1.189255\n",
       "2023-10-04  1.213935  0.277038\n",
       "2023-10-05  0.102500  0.598041\n",
       "2023-10-06 -0.114749  0.901724\n",
       "2023-10-07  1.412476 -1.353099\n",
       "2023-10-08 -0.679255 -1.356641\n",
       "2023-10-09 -0.900855  0.418052\n",
       "2023-10-10  1.127244  0.126193\n",
       "2023-10-11  0.944396 -0.763158\n",
       "2023-10-12  0.646376 -0.920773"
      ]
     },
     "execution_count": 61,
     "metadata": {},
     "output_type": "execute_result"
    }
   ],
   "source": [
    "df.loc[:,[\"a\",\"c\"]]"
   ]
  },
  {
   "cell_type": "code",
   "execution_count": 62,
   "id": "7ea6dcf3",
   "metadata": {},
   "outputs": [
    {
     "data": {
      "text/html": [
       "<div>\n",
       "<style scoped>\n",
       "    .dataframe tbody tr th:only-of-type {\n",
       "        vertical-align: middle;\n",
       "    }\n",
       "\n",
       "    .dataframe tbody tr th {\n",
       "        vertical-align: top;\n",
       "    }\n",
       "\n",
       "    .dataframe thead th {\n",
       "        text-align: right;\n",
       "    }\n",
       "</style>\n",
       "<table border=\"1\" class=\"dataframe\">\n",
       "  <thead>\n",
       "    <tr style=\"text-align: right;\">\n",
       "      <th></th>\n",
       "      <th>d</th>\n",
       "      <th>c</th>\n",
       "    </tr>\n",
       "  </thead>\n",
       "  <tbody>\n",
       "  </tbody>\n",
       "</table>\n",
       "</div>"
      ],
      "text/plain": [
       "Empty DataFrame\n",
       "Columns: [d, c]\n",
       "Index: []"
      ]
     },
     "execution_count": 62,
     "metadata": {},
     "output_type": "execute_result"
    }
   ],
   "source": [
    "df.loc[\"20210928\":\"20211003\",[\"d\",\"c\"]]"
   ]
  },
  {
   "cell_type": "code",
   "execution_count": 64,
   "id": "8a62f824",
   "metadata": {},
   "outputs": [
    {
     "data": {
      "text/plain": [
       "d   -0.144845\n",
       "c    0.051949\n",
       "Name: 2023-09-28 00:00:00, dtype: float64"
      ]
     },
     "execution_count": 64,
     "metadata": {},
     "output_type": "execute_result"
    }
   ],
   "source": [
    "df.loc[\"20230928\",[\"d\",\"c\"]]"
   ]
  },
  {
   "cell_type": "code",
   "execution_count": 65,
   "id": "348470da",
   "metadata": {},
   "outputs": [
    {
     "data": {
      "text/plain": [
       "d   -0.144845\n",
       "c    0.051949\n",
       "Name: 2023-09-28 00:00:00, dtype: float64"
      ]
     },
     "execution_count": 65,
     "metadata": {},
     "output_type": "execute_result"
    }
   ],
   "source": [
    "df.loc[d[0],[\"d\",\"c\"]]"
   ]
  },
  {
   "cell_type": "code",
   "execution_count": 66,
   "id": "2cf68dab",
   "metadata": {},
   "outputs": [
    {
     "data": {
      "text/plain": [
       "0.0519487895440897"
      ]
     },
     "execution_count": 66,
     "metadata": {},
     "output_type": "execute_result"
    }
   ],
   "source": [
    "df.at[d[0],'c']"
   ]
  },
  {
   "cell_type": "code",
   "execution_count": 67,
   "id": "fb103d6b",
   "metadata": {},
   "outputs": [
    {
     "data": {
      "text/plain": [
       "a    0.120945\n",
       "b    0.282436\n",
       "c    0.784225\n",
       "d   -0.518396\n",
       "Name: 2023-10-01 00:00:00, dtype: float64"
      ]
     },
     "execution_count": 67,
     "metadata": {},
     "output_type": "execute_result"
    }
   ],
   "source": [
    "df.iloc[3]"
   ]
  },
  {
   "cell_type": "code",
   "execution_count": 68,
   "id": "6c7305d2",
   "metadata": {},
   "outputs": [
    {
     "data": {
      "text/html": [
       "<div>\n",
       "<style scoped>\n",
       "    .dataframe tbody tr th:only-of-type {\n",
       "        vertical-align: middle;\n",
       "    }\n",
       "\n",
       "    .dataframe tbody tr th {\n",
       "        vertical-align: top;\n",
       "    }\n",
       "\n",
       "    .dataframe thead th {\n",
       "        text-align: right;\n",
       "    }\n",
       "</style>\n",
       "<table border=\"1\" class=\"dataframe\">\n",
       "  <thead>\n",
       "    <tr style=\"text-align: right;\">\n",
       "      <th></th>\n",
       "      <th>a</th>\n",
       "      <th>b</th>\n",
       "      <th>c</th>\n",
       "      <th>d</th>\n",
       "    </tr>\n",
       "  </thead>\n",
       "  <tbody>\n",
       "    <tr>\n",
       "      <th>2023-10-01</th>\n",
       "      <td>0.120945</td>\n",
       "      <td>0.282436</td>\n",
       "      <td>0.784225</td>\n",
       "      <td>-0.518396</td>\n",
       "    </tr>\n",
       "    <tr>\n",
       "      <th>2023-10-02</th>\n",
       "      <td>-1.249921</td>\n",
       "      <td>1.158207</td>\n",
       "      <td>1.166802</td>\n",
       "      <td>-0.534551</td>\n",
       "    </tr>\n",
       "  </tbody>\n",
       "</table>\n",
       "</div>"
      ],
      "text/plain": [
       "                   a         b         c         d\n",
       "2023-10-01  0.120945  0.282436  0.784225 -0.518396\n",
       "2023-10-02 -1.249921  1.158207  1.166802 -0.534551"
      ]
     },
     "execution_count": 68,
     "metadata": {},
     "output_type": "execute_result"
    }
   ],
   "source": [
    "df.iloc[3:5]"
   ]
  },
  {
   "cell_type": "code",
   "execution_count": 69,
   "id": "55f2ec56",
   "metadata": {},
   "outputs": [
    {
     "data": {
      "text/html": [
       "<div>\n",
       "<style scoped>\n",
       "    .dataframe tbody tr th:only-of-type {\n",
       "        vertical-align: middle;\n",
       "    }\n",
       "\n",
       "    .dataframe tbody tr th {\n",
       "        vertical-align: top;\n",
       "    }\n",
       "\n",
       "    .dataframe thead th {\n",
       "        text-align: right;\n",
       "    }\n",
       "</style>\n",
       "<table border=\"1\" class=\"dataframe\">\n",
       "  <thead>\n",
       "    <tr style=\"text-align: right;\">\n",
       "      <th></th>\n",
       "      <th>a</th>\n",
       "      <th>b</th>\n",
       "    </tr>\n",
       "  </thead>\n",
       "  <tbody>\n",
       "    <tr>\n",
       "      <th>2023-10-01</th>\n",
       "      <td>0.120945</td>\n",
       "      <td>0.282436</td>\n",
       "    </tr>\n",
       "    <tr>\n",
       "      <th>2023-10-02</th>\n",
       "      <td>-1.249921</td>\n",
       "      <td>1.158207</td>\n",
       "    </tr>\n",
       "  </tbody>\n",
       "</table>\n",
       "</div>"
      ],
      "text/plain": [
       "                   a         b\n",
       "2023-10-01  0.120945  0.282436\n",
       "2023-10-02 -1.249921  1.158207"
      ]
     },
     "execution_count": 69,
     "metadata": {},
     "output_type": "execute_result"
    }
   ],
   "source": [
    "df.iloc[3:5,0:2]"
   ]
  },
  {
   "cell_type": "code",
   "execution_count": 70,
   "id": "98f57d2c",
   "metadata": {},
   "outputs": [
    {
     "data": {
      "text/html": [
       "<div>\n",
       "<style scoped>\n",
       "    .dataframe tbody tr th:only-of-type {\n",
       "        vertical-align: middle;\n",
       "    }\n",
       "\n",
       "    .dataframe tbody tr th {\n",
       "        vertical-align: top;\n",
       "    }\n",
       "\n",
       "    .dataframe thead th {\n",
       "        text-align: right;\n",
       "    }\n",
       "</style>\n",
       "<table border=\"1\" class=\"dataframe\">\n",
       "  <thead>\n",
       "    <tr style=\"text-align: right;\">\n",
       "      <th></th>\n",
       "      <th>a</th>\n",
       "      <th>b</th>\n",
       "      <th>c</th>\n",
       "      <th>d</th>\n",
       "    </tr>\n",
       "  </thead>\n",
       "  <tbody>\n",
       "    <tr>\n",
       "      <th>2023-09-30</th>\n",
       "      <td>1.371199</td>\n",
       "      <td>0.806189</td>\n",
       "      <td>-0.056680</td>\n",
       "      <td>-1.570426</td>\n",
       "    </tr>\n",
       "    <tr>\n",
       "      <th>2023-10-01</th>\n",
       "      <td>0.120945</td>\n",
       "      <td>0.282436</td>\n",
       "      <td>0.784225</td>\n",
       "      <td>-0.518396</td>\n",
       "    </tr>\n",
       "    <tr>\n",
       "      <th>2023-10-04</th>\n",
       "      <td>1.213935</td>\n",
       "      <td>-0.655417</td>\n",
       "      <td>0.277038</td>\n",
       "      <td>1.144890</td>\n",
       "    </tr>\n",
       "    <tr>\n",
       "      <th>2023-10-05</th>\n",
       "      <td>0.102500</td>\n",
       "      <td>-1.203390</td>\n",
       "      <td>0.598041</td>\n",
       "      <td>-0.209612</td>\n",
       "    </tr>\n",
       "    <tr>\n",
       "      <th>2023-10-07</th>\n",
       "      <td>1.412476</td>\n",
       "      <td>1.457415</td>\n",
       "      <td>-1.353099</td>\n",
       "      <td>-0.861397</td>\n",
       "    </tr>\n",
       "    <tr>\n",
       "      <th>2023-10-10</th>\n",
       "      <td>1.127244</td>\n",
       "      <td>-1.430917</td>\n",
       "      <td>0.126193</td>\n",
       "      <td>-0.341334</td>\n",
       "    </tr>\n",
       "    <tr>\n",
       "      <th>2023-10-11</th>\n",
       "      <td>0.944396</td>\n",
       "      <td>2.762186</td>\n",
       "      <td>-0.763158</td>\n",
       "      <td>0.023633</td>\n",
       "    </tr>\n",
       "    <tr>\n",
       "      <th>2023-10-12</th>\n",
       "      <td>0.646376</td>\n",
       "      <td>-0.935925</td>\n",
       "      <td>-0.920773</td>\n",
       "      <td>-0.211869</td>\n",
       "    </tr>\n",
       "  </tbody>\n",
       "</table>\n",
       "</div>"
      ],
      "text/plain": [
       "                   a         b         c         d\n",
       "2023-09-30  1.371199  0.806189 -0.056680 -1.570426\n",
       "2023-10-01  0.120945  0.282436  0.784225 -0.518396\n",
       "2023-10-04  1.213935 -0.655417  0.277038  1.144890\n",
       "2023-10-05  0.102500 -1.203390  0.598041 -0.209612\n",
       "2023-10-07  1.412476  1.457415 -1.353099 -0.861397\n",
       "2023-10-10  1.127244 -1.430917  0.126193 -0.341334\n",
       "2023-10-11  0.944396  2.762186 -0.763158  0.023633\n",
       "2023-10-12  0.646376 -0.935925 -0.920773 -0.211869"
      ]
     },
     "execution_count": 70,
     "metadata": {},
     "output_type": "execute_result"
    }
   ],
   "source": [
    "df[df[\"a\"]>0]"
   ]
  },
  {
   "cell_type": "code",
   "execution_count": 71,
   "id": "3a36170b",
   "metadata": {},
   "outputs": [
    {
     "data": {
      "text/html": [
       "<div>\n",
       "<style scoped>\n",
       "    .dataframe tbody tr th:only-of-type {\n",
       "        vertical-align: middle;\n",
       "    }\n",
       "\n",
       "    .dataframe tbody tr th {\n",
       "        vertical-align: top;\n",
       "    }\n",
       "\n",
       "    .dataframe thead th {\n",
       "        text-align: right;\n",
       "    }\n",
       "</style>\n",
       "<table border=\"1\" class=\"dataframe\">\n",
       "  <thead>\n",
       "    <tr style=\"text-align: right;\">\n",
       "      <th></th>\n",
       "      <th>a</th>\n",
       "      <th>b</th>\n",
       "      <th>c</th>\n",
       "      <th>d</th>\n",
       "    </tr>\n",
       "  </thead>\n",
       "  <tbody>\n",
       "  </tbody>\n",
       "</table>\n",
       "</div>"
      ],
      "text/plain": [
       "Empty DataFrame\n",
       "Columns: [a, b, c, d]\n",
       "Index: []"
      ]
     },
     "execution_count": 71,
     "metadata": {},
     "output_type": "execute_result"
    }
   ],
   "source": [
    "df[df['a']>2]"
   ]
  },
  {
   "cell_type": "code",
   "execution_count": 72,
   "id": "b11fe3ea",
   "metadata": {},
   "outputs": [
    {
     "data": {
      "text/html": [
       "<div>\n",
       "<style scoped>\n",
       "    .dataframe tbody tr th:only-of-type {\n",
       "        vertical-align: middle;\n",
       "    }\n",
       "\n",
       "    .dataframe tbody tr th {\n",
       "        vertical-align: top;\n",
       "    }\n",
       "\n",
       "    .dataframe thead th {\n",
       "        text-align: right;\n",
       "    }\n",
       "</style>\n",
       "<table border=\"1\" class=\"dataframe\">\n",
       "  <thead>\n",
       "    <tr style=\"text-align: right;\">\n",
       "      <th></th>\n",
       "      <th>a</th>\n",
       "      <th>b</th>\n",
       "      <th>c</th>\n",
       "      <th>d</th>\n",
       "    </tr>\n",
       "  </thead>\n",
       "  <tbody>\n",
       "  </tbody>\n",
       "</table>\n",
       "</div>"
      ],
      "text/plain": [
       "Empty DataFrame\n",
       "Columns: [a, b, c, d]\n",
       "Index: []"
      ]
     },
     "execution_count": 72,
     "metadata": {},
     "output_type": "execute_result"
    }
   ],
   "source": [
    "df[df['a']>3]"
   ]
  },
  {
   "cell_type": "code",
   "execution_count": 73,
   "id": "642fd6fb",
   "metadata": {},
   "outputs": [
    {
     "data": {
      "text/html": [
       "<div>\n",
       "<style scoped>\n",
       "    .dataframe tbody tr th:only-of-type {\n",
       "        vertical-align: middle;\n",
       "    }\n",
       "\n",
       "    .dataframe tbody tr th {\n",
       "        vertical-align: top;\n",
       "    }\n",
       "\n",
       "    .dataframe thead th {\n",
       "        text-align: right;\n",
       "    }\n",
       "</style>\n",
       "<table border=\"1\" class=\"dataframe\">\n",
       "  <thead>\n",
       "    <tr style=\"text-align: right;\">\n",
       "      <th></th>\n",
       "      <th>a</th>\n",
       "      <th>b</th>\n",
       "      <th>c</th>\n",
       "      <th>d</th>\n",
       "      <th>e</th>\n",
       "    </tr>\n",
       "  </thead>\n",
       "  <tbody>\n",
       "    <tr>\n",
       "      <th>2023-09-28</th>\n",
       "      <td>-0.801290</td>\n",
       "      <td>2.473924</td>\n",
       "      <td>0.051949</td>\n",
       "      <td>-0.144845</td>\n",
       "      <td>1.0</td>\n",
       "    </tr>\n",
       "    <tr>\n",
       "      <th>2023-09-29</th>\n",
       "      <td>-1.775324</td>\n",
       "      <td>0.868304</td>\n",
       "      <td>-1.568177</td>\n",
       "      <td>1.321939</td>\n",
       "      <td>1.0</td>\n",
       "    </tr>\n",
       "    <tr>\n",
       "      <th>2023-09-30</th>\n",
       "      <td>1.371199</td>\n",
       "      <td>0.806189</td>\n",
       "      <td>-0.056680</td>\n",
       "      <td>-1.570426</td>\n",
       "      <td>NaN</td>\n",
       "    </tr>\n",
       "    <tr>\n",
       "      <th>2023-10-01</th>\n",
       "      <td>0.120945</td>\n",
       "      <td>0.282436</td>\n",
       "      <td>0.784225</td>\n",
       "      <td>-0.518396</td>\n",
       "      <td>NaN</td>\n",
       "    </tr>\n",
       "  </tbody>\n",
       "</table>\n",
       "</div>"
      ],
      "text/plain": [
       "                   a         b         c         d    e\n",
       "2023-09-28 -0.801290  2.473924  0.051949 -0.144845  1.0\n",
       "2023-09-29 -1.775324  0.868304 -1.568177  1.321939  1.0\n",
       "2023-09-30  1.371199  0.806189 -0.056680 -1.570426  NaN\n",
       "2023-10-01  0.120945  0.282436  0.784225 -0.518396  NaN"
      ]
     },
     "execution_count": 73,
     "metadata": {},
     "output_type": "execute_result"
    }
   ],
   "source": [
    "df2=df.reindex(index=d[0:4],columns=list(df.columns)+[\"e\"])\n",
    "df2.loc[d[0]:d[1],\"e\"]=1\n",
    "df2"
   ]
  },
  {
   "cell_type": "code",
   "execution_count": 74,
   "id": "e7451838",
   "metadata": {},
   "outputs": [
    {
     "data": {
      "text/html": [
       "<div>\n",
       "<style scoped>\n",
       "    .dataframe tbody tr th:only-of-type {\n",
       "        vertical-align: middle;\n",
       "    }\n",
       "\n",
       "    .dataframe tbody tr th {\n",
       "        vertical-align: top;\n",
       "    }\n",
       "\n",
       "    .dataframe thead th {\n",
       "        text-align: right;\n",
       "    }\n",
       "</style>\n",
       "<table border=\"1\" class=\"dataframe\">\n",
       "  <thead>\n",
       "    <tr style=\"text-align: right;\">\n",
       "      <th></th>\n",
       "      <th>a</th>\n",
       "      <th>b</th>\n",
       "      <th>c</th>\n",
       "      <th>d</th>\n",
       "      <th>e</th>\n",
       "    </tr>\n",
       "  </thead>\n",
       "  <tbody>\n",
       "    <tr>\n",
       "      <th>2023-09-28</th>\n",
       "      <td>False</td>\n",
       "      <td>False</td>\n",
       "      <td>False</td>\n",
       "      <td>False</td>\n",
       "      <td>False</td>\n",
       "    </tr>\n",
       "    <tr>\n",
       "      <th>2023-09-29</th>\n",
       "      <td>False</td>\n",
       "      <td>False</td>\n",
       "      <td>False</td>\n",
       "      <td>False</td>\n",
       "      <td>False</td>\n",
       "    </tr>\n",
       "    <tr>\n",
       "      <th>2023-09-30</th>\n",
       "      <td>False</td>\n",
       "      <td>False</td>\n",
       "      <td>False</td>\n",
       "      <td>False</td>\n",
       "      <td>True</td>\n",
       "    </tr>\n",
       "    <tr>\n",
       "      <th>2023-10-01</th>\n",
       "      <td>False</td>\n",
       "      <td>False</td>\n",
       "      <td>False</td>\n",
       "      <td>False</td>\n",
       "      <td>True</td>\n",
       "    </tr>\n",
       "  </tbody>\n",
       "</table>\n",
       "</div>"
      ],
      "text/plain": [
       "                a      b      c      d      e\n",
       "2023-09-28  False  False  False  False  False\n",
       "2023-09-29  False  False  False  False  False\n",
       "2023-09-30  False  False  False  False   True\n",
       "2023-10-01  False  False  False  False   True"
      ]
     },
     "execution_count": 74,
     "metadata": {},
     "output_type": "execute_result"
    }
   ],
   "source": [
    "df2.isnull()"
   ]
  },
  {
   "cell_type": "code",
   "execution_count": 75,
   "id": "c13ad97e",
   "metadata": {},
   "outputs": [
    {
     "data": {
      "text/plain": [
       "<bound method DataFrame.dropna of                    a         b         c         d    e\n",
       "2023-09-28 -0.801290  2.473924  0.051949 -0.144845  1.0\n",
       "2023-09-29 -1.775324  0.868304 -1.568177  1.321939  1.0\n",
       "2023-09-30  1.371199  0.806189 -0.056680 -1.570426  NaN\n",
       "2023-10-01  0.120945  0.282436  0.784225 -0.518396  NaN>"
      ]
     },
     "execution_count": 75,
     "metadata": {},
     "output_type": "execute_result"
    }
   ],
   "source": [
    "df2.dropna"
   ]
  },
  {
   "cell_type": "code",
   "execution_count": 76,
   "id": "773e081a",
   "metadata": {},
   "outputs": [
    {
     "data": {
      "text/html": [
       "<div>\n",
       "<style scoped>\n",
       "    .dataframe tbody tr th:only-of-type {\n",
       "        vertical-align: middle;\n",
       "    }\n",
       "\n",
       "    .dataframe tbody tr th {\n",
       "        vertical-align: top;\n",
       "    }\n",
       "\n",
       "    .dataframe thead th {\n",
       "        text-align: right;\n",
       "    }\n",
       "</style>\n",
       "<table border=\"1\" class=\"dataframe\">\n",
       "  <thead>\n",
       "    <tr style=\"text-align: right;\">\n",
       "      <th></th>\n",
       "      <th>a</th>\n",
       "      <th>b</th>\n",
       "      <th>c</th>\n",
       "      <th>d</th>\n",
       "      <th>e</th>\n",
       "    </tr>\n",
       "  </thead>\n",
       "  <tbody>\n",
       "    <tr>\n",
       "      <th>2023-09-28</th>\n",
       "      <td>-0.801290</td>\n",
       "      <td>2.473924</td>\n",
       "      <td>0.051949</td>\n",
       "      <td>-0.144845</td>\n",
       "      <td>1.0</td>\n",
       "    </tr>\n",
       "    <tr>\n",
       "      <th>2023-09-29</th>\n",
       "      <td>-1.775324</td>\n",
       "      <td>0.868304</td>\n",
       "      <td>-1.568177</td>\n",
       "      <td>1.321939</td>\n",
       "      <td>1.0</td>\n",
       "    </tr>\n",
       "    <tr>\n",
       "      <th>2023-09-30</th>\n",
       "      <td>1.371199</td>\n",
       "      <td>0.806189</td>\n",
       "      <td>-0.056680</td>\n",
       "      <td>-1.570426</td>\n",
       "      <td>2.0</td>\n",
       "    </tr>\n",
       "    <tr>\n",
       "      <th>2023-10-01</th>\n",
       "      <td>0.120945</td>\n",
       "      <td>0.282436</td>\n",
       "      <td>0.784225</td>\n",
       "      <td>-0.518396</td>\n",
       "      <td>2.0</td>\n",
       "    </tr>\n",
       "  </tbody>\n",
       "</table>\n",
       "</div>"
      ],
      "text/plain": [
       "                   a         b         c         d    e\n",
       "2023-09-28 -0.801290  2.473924  0.051949 -0.144845  1.0\n",
       "2023-09-29 -1.775324  0.868304 -1.568177  1.321939  1.0\n",
       "2023-09-30  1.371199  0.806189 -0.056680 -1.570426  2.0\n",
       "2023-10-01  0.120945  0.282436  0.784225 -0.518396  2.0"
      ]
     },
     "execution_count": 76,
     "metadata": {},
     "output_type": "execute_result"
    }
   ],
   "source": [
    "df2.fillna(value=2)"
   ]
  },
  {
   "cell_type": "code",
   "execution_count": 77,
   "id": "2c13de25",
   "metadata": {},
   "outputs": [
    {
     "data": {
      "text/plain": [
       "a    0.044808\n",
       "b    0.347008\n",
       "c   -0.192251\n",
       "d   -0.244419\n",
       "dtype: float64"
      ]
     },
     "execution_count": 77,
     "metadata": {},
     "output_type": "execute_result"
    }
   ],
   "source": [
    "df.mean()"
   ]
  },
  {
   "cell_type": "code",
   "execution_count": 82,
   "id": "c3e50460",
   "metadata": {},
   "outputs": [
    {
     "name": "stdout",
     "output_type": "stream",
     "text": [
      "2023-09-28     NaN\n",
      "2023-09-29     NaN\n",
      "2023-09-30     1.0\n",
      "2023-10-01     2.0\n",
      "2023-10-02     3.0\n",
      "2023-10-03     NaN\n",
      "2023-10-04     4.0\n",
      "2023-10-05     5.0\n",
      "2023-10-06     6.0\n",
      "2023-10-07     7.0\n",
      "2023-10-08     8.0\n",
      "2023-10-09     9.0\n",
      "2023-10-10    10.0\n",
      "2023-10-11    11.0\n",
      "2023-10-12    12.0\n",
      "Freq: D, dtype: float64\n"
     ]
    }
   ],
   "source": [
    "s=pd.Series([1,2,3,np.nan,4,5,6,7,8,9,10,11,12,13,14],index=d).shift(2)\n",
    "print(s)"
   ]
  },
  {
   "cell_type": "code",
   "execution_count": 80,
   "id": "f515cd83",
   "metadata": {},
   "outputs": [
    {
     "data": {
      "text/plain": [
       "DatetimeIndex(['2023-09-28', '2023-09-29', '2023-09-30', '2023-10-01',\n",
       "               '2023-10-02', '2023-10-03', '2023-10-04', '2023-10-05',\n",
       "               '2023-10-06', '2023-10-07', '2023-10-08', '2023-10-09',\n",
       "               '2023-10-10', '2023-10-11', '2023-10-12'],\n",
       "              dtype='datetime64[ns]', freq='D')"
      ]
     },
     "execution_count": 80,
     "metadata": {},
     "output_type": "execute_result"
    }
   ],
   "source": [
    "d"
   ]
  },
  {
   "cell_type": "code",
   "execution_count": null,
   "id": "25445551",
   "metadata": {},
   "outputs": [],
   "source": []
  },
  {
   "cell_type": "code",
   "execution_count": null,
   "id": "3c067a15",
   "metadata": {},
   "outputs": [],
   "source": []
  }
 ],
 "metadata": {
  "kernelspec": {
   "display_name": "Python 3 (ipykernel)",
   "language": "python",
   "name": "python3"
  },
  "language_info": {
   "codemirror_mode": {
    "name": "ipython",
    "version": 3
   },
   "file_extension": ".py",
   "mimetype": "text/x-python",
   "name": "python",
   "nbconvert_exporter": "python",
   "pygments_lexer": "ipython3",
   "version": "3.11.4"
  }
 },
 "nbformat": 4,
 "nbformat_minor": 5
}
