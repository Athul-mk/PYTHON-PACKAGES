{
 "cells": [
  {
   "cell_type": "code",
   "execution_count": 4,
   "id": "e8a066a4",
   "metadata": {},
   "outputs": [
    {
     "name": "stdout",
     "output_type": "stream",
     "text": [
      "[[ 2  4  6  8]\n",
      " [ 6  8 10 12]]\n"
     ]
    }
   ],
   "source": [
    "import numpy as np\n",
    "#addition\n",
    "ad=np.array([(1,2,3,4),(3,4,5,6)])\n",
    "ad1=np.array([(1,2,3,4),(3,4,5,6)])\n",
    "print(ad+ad1)"
   ]
  },
  {
   "cell_type": "code",
   "execution_count": 5,
   "id": "da55b2d0",
   "metadata": {},
   "outputs": [],
   "source": [
    "import numpy as np"
   ]
  },
  {
   "cell_type": "code",
   "execution_count": 7,
   "id": "9816c288",
   "metadata": {},
   "outputs": [
    {
     "name": "stdout",
     "output_type": "stream",
     "text": [
      "[[0 0 0 0]\n",
      " [0 0 0 0]]\n"
     ]
    }
   ],
   "source": [
    "#subtraction\n",
    "print(ad-ad1)"
   ]
  },
  {
   "cell_type": "code",
   "execution_count": 8,
   "id": "0bfae6a0",
   "metadata": {},
   "outputs": [
    {
     "name": "stdout",
     "output_type": "stream",
     "text": [
      "[[ 1  4  9 16]\n",
      " [ 9 16 25 36]]\n"
     ]
    }
   ],
   "source": [
    "#mulitiplication\n",
    "print(ad*ad1)"
   ]
  },
  {
   "cell_type": "code",
   "execution_count": 9,
   "id": "01046148",
   "metadata": {},
   "outputs": [
    {
     "name": "stdout",
     "output_type": "stream",
     "text": [
      "[[1. 1. 1. 1.]\n",
      " [1. 1. 1. 1.]]\n"
     ]
    }
   ],
   "source": [
    "#divison\n",
    "print(ad/ad1)"
   ]
  },
  {
   "cell_type": "code",
   "execution_count": 10,
   "id": "6c4187bf",
   "metadata": {},
   "outputs": [
    {
     "name": "stdout",
     "output_type": "stream",
     "text": [
      "[[1 2 3 4]\n",
      " [3 4 5 6]\n",
      " [1 2 3 4]\n",
      " [3 4 5 6]]\n"
     ]
    }
   ],
   "source": [
    "#concat\n",
    "#vertical stacking\n",
    "print(np.vstack((ad,ad1)))"
   ]
  },
  {
   "cell_type": "code",
   "execution_count": 11,
   "id": "596c545e",
   "metadata": {},
   "outputs": [
    {
     "name": "stdout",
     "output_type": "stream",
     "text": [
      "[[1 2 3 4 1 2 3 4]\n",
      " [3 4 5 6 3 4 5 6]]\n"
     ]
    }
   ],
   "source": [
    "#horizontal stacking\n",
    "print(np.hstack((ad,ad1)))"
   ]
  },
  {
   "cell_type": "code",
   "execution_count": 13,
   "id": "d701131e",
   "metadata": {},
   "outputs": [
    {
     "name": "stdout",
     "output_type": "stream",
     "text": [
      "[1 2 3 4 3 4 5 6]\n"
     ]
    }
   ],
   "source": [
    "#to make a single column\n",
    "print(ad.ravel())"
   ]
  },
  {
   "cell_type": "code",
   "execution_count": 15,
   "id": "0b7734dc",
   "metadata": {},
   "outputs": [
    {
     "name": "stdout",
     "output_type": "stream",
     "text": [
      "[1.  1.5 2.  2.5 3. ]\n",
      "[1.         1.44444444 1.88888889 2.33333333 2.77777778 3.22222222\n",
      " 3.66666667 4.11111111 4.55555556 5.        ]\n"
     ]
    }
   ],
   "source": [
    "ls=np.linspace(1,3,5)\n",
    "print(ls)\n",
    "ls1=np.linspace(1,5,10)\n",
    "print(ls1)"
   ]
  },
  {
   "cell_type": "code",
   "execution_count": 16,
   "id": "dd99fe17",
   "metadata": {},
   "outputs": [
    {
     "name": "stdout",
     "output_type": "stream",
     "text": [
      "3\n",
      "1\n",
      "6\n"
     ]
    }
   ],
   "source": [
    "m1=np.array([1,2,3])\n",
    "print(m1.max())\n",
    "print(m1.min())\n",
    "print(m1.sum())"
   ]
  },
  {
   "cell_type": "code",
   "execution_count": 17,
   "id": "b280a534",
   "metadata": {},
   "outputs": [
    {
     "name": "stdout",
     "output_type": "stream",
     "text": [
      "[[1 2 3 4]\n",
      " [3 4 5 6]]\n",
      "[ 4  6  8 10]\n",
      "[10 18]\n"
     ]
    }
   ],
   "source": [
    "ar3=np.array([(1,2,3,4),(3,4,5,6)])\n",
    "print(ar3)\n",
    "print(ar3.sum(axis=0))\n",
    "print(ar3.sum(axis=1))"
   ]
  },
  {
   "cell_type": "code",
   "execution_count": 18,
   "id": "89da2106",
   "metadata": {},
   "outputs": [
    {
     "name": "stdout",
     "output_type": "stream",
     "text": [
      "[[1.         1.41421356 1.73205081 2.        ]\n",
      " [1.73205081 2.         2.23606798 2.44948974]]\n"
     ]
    }
   ],
   "source": [
    "print(np.sqrt(ar3))"
   ]
  },
  {
   "cell_type": "code",
   "execution_count": 20,
   "id": "8fff66f9",
   "metadata": {},
   "outputs": [
    {
     "name": "stdout",
     "output_type": "stream",
     "text": [
      "1.5\n"
     ]
    }
   ],
   "source": [
    "print(np.std(ar3))"
   ]
  },
  {
   "cell_type": "code",
   "execution_count": 27,
   "id": "40a58a23",
   "metadata": {},
   "outputs": [
    {
     "name": "stdout",
     "output_type": "stream",
     "text": [
      "[1 2 3]\n"
     ]
    }
   ],
   "source": [
    "a=np.array([1,2,3])\n",
    "print(a)"
   ]
  },
  {
   "cell_type": "code",
   "execution_count": 22,
   "id": "3d9d52f6",
   "metadata": {},
   "outputs": [
    {
     "name": "stdout",
     "output_type": "stream",
     "text": [
      "[[1 2 3]\n",
      " [4 5 6]]\n"
     ]
    }
   ],
   "source": [
    "a=np.array([(1,2,3),(4,5,6)])\n",
    "print(a)"
   ]
  },
  {
   "cell_type": "code",
   "execution_count": 23,
   "id": "f83164e9",
   "metadata": {},
   "outputs": [
    {
     "name": "stdout",
     "output_type": "stream",
     "text": [
      "2\n"
     ]
    }
   ],
   "source": [
    "print(a.ndim)"
   ]
  },
  {
   "cell_type": "code",
   "execution_count": 26,
   "id": "88797aa2",
   "metadata": {},
   "outputs": [
    {
     "name": "stdout",
     "output_type": "stream",
     "text": [
      "1\n"
     ]
    }
   ],
   "source": [
    "a=np.array([1,2,3])\n",
    "print(a.ndim)"
   ]
  },
  {
   "cell_type": "code",
   "execution_count": 28,
   "id": "2626de6e",
   "metadata": {},
   "outputs": [
    {
     "name": "stdout",
     "output_type": "stream",
     "text": [
      "4\n"
     ]
    }
   ],
   "source": [
    "print(a.itemsize)"
   ]
  },
  {
   "cell_type": "code",
   "execution_count": 30,
   "id": "6723d952",
   "metadata": {},
   "outputs": [
    {
     "name": "stdout",
     "output_type": "stream",
     "text": [
      "int32\n"
     ]
    }
   ],
   "source": [
    "print(a.dtype)"
   ]
  },
  {
   "cell_type": "code",
   "execution_count": 32,
   "id": "083d89ff",
   "metadata": {},
   "outputs": [
    {
     "name": "stdout",
     "output_type": "stream",
     "text": [
      "6\n",
      "3\n"
     ]
    },
    {
     "data": {
      "text/plain": [
       "12"
      ]
     },
     "execution_count": 32,
     "metadata": {},
     "output_type": "execute_result"
    }
   ],
   "source": [
    "n=np.array([(1,2,3),(2,3,4)])\n",
    "p=np.array([1,2,3])\n",
    "print(n.size)\n",
    "print(p.size)\n",
    "n.nbytes\n",
    "p.nbytes"
   ]
  },
  {
   "cell_type": "code",
   "execution_count": 33,
   "id": "dceb069e",
   "metadata": {},
   "outputs": [
    {
     "name": "stdout",
     "output_type": "stream",
     "text": [
      "(2, 3)\n",
      "[[1 2 3]\n",
      " [2 3 4]]\n"
     ]
    }
   ],
   "source": [
    "print(n.shape)\n",
    "print(n)"
   ]
  },
  {
   "cell_type": "code",
   "execution_count": 34,
   "id": "4f16183e",
   "metadata": {},
   "outputs": [
    {
     "name": "stdout",
     "output_type": "stream",
     "text": [
      "[[1 2]\n",
      " [3 4]\n",
      " [3 4]\n",
      " [5 6]]\n"
     ]
    }
   ],
   "source": [
    "ar=np.array([(1,2,3,4),(3,4,5,6)])\n",
    "ar=ar.reshape(4,2)\n",
    "print(ar)"
   ]
  },
  {
   "cell_type": "code",
   "execution_count": 35,
   "id": "718d23f8",
   "metadata": {},
   "outputs": [
    {
     "name": "stdout",
     "output_type": "stream",
     "text": [
      "[[1 2 3 4]\n",
      " [3 4 5 6]]\n",
      "2\n"
     ]
    }
   ],
   "source": [
    "ar1=np.array([(1,2,3,4),(3,4,5,6)])\n",
    "print(ar1)\n",
    "print(ar1[0,1])"
   ]
  },
  {
   "cell_type": "code",
   "execution_count": 36,
   "id": "22c6f33d",
   "metadata": {},
   "outputs": [
    {
     "name": "stdout",
     "output_type": "stream",
     "text": [
      "[2 4 6 8]\n"
     ]
    }
   ],
   "source": [
    "import numpy as np\n",
    "\n",
    "# create a list named list1\n",
    "list1 = [2, 4, 6, 8]\n",
    "\n",
    "# create numpy array using list1\n",
    "array1 = np.array(list1)\n",
    "\n",
    "print(array1)"
   ]
  },
  {
   "cell_type": "code",
   "execution_count": null,
   "id": "89310e82",
   "metadata": {},
   "outputs": [],
   "source": []
  }
 ],
 "metadata": {
  "kernelspec": {
   "display_name": "Python 3 (ipykernel)",
   "language": "python",
   "name": "python3"
  },
  "language_info": {
   "codemirror_mode": {
    "name": "ipython",
    "version": 3
   },
   "file_extension": ".py",
   "mimetype": "text/x-python",
   "name": "python",
   "nbconvert_exporter": "python",
   "pygments_lexer": "ipython3",
   "version": "3.11.4"
  }
 },
 "nbformat": 4,
 "nbformat_minor": 5
}
